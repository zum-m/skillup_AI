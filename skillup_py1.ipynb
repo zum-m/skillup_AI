{
 "cells": [
  {
   "cell_type": "markdown",
   "metadata": {},
   "source": []
  },
  {
   "cell_type": "markdown",
   "metadata": {},
   "source": [
    "# 1\n",
    "\n"
   ]
  },
  {
   "cell_type": "code",
   "execution_count": 6,
   "metadata": {},
   "outputs": [
    {
     "name": "stdout",
     "output_type": "stream",
     "text": [
      "['ca']\n"
     ]
    }
   ],
   "source": [
    "x= [\"aa\",\"ba\",\"ca\",\"da\"]\n",
    "print(x[2:3])\n"
   ]
  },
  {
   "cell_type": "code",
   "execution_count": 9,
   "metadata": {},
   "outputs": [
    {
     "name": "stdout",
     "output_type": "stream",
     "text": [
      "2 x 1 = 2\n",
      "2 x 2 = 4\n",
      "2 x 3 = 6\n",
      "2 x 4 = 8\n",
      "2 x 5 = 10\n",
      "2 x 6 = 12\n",
      "2 x 7 = 14\n",
      "2 x 8 = 16\n",
      "2 x 9 = 18\n"
     ]
    }
   ],
   "source": [
    "i = 1\n",
    "while i <= 9:\n",
    "    result = 2 * i\n",
    "    print(f\"2 x {i} = {result}\")\n",
    "    i += 1"
   ]
  },
  {
   "cell_type": "code",
   "execution_count": 17,
   "metadata": {},
   "outputs": [
    {
     "name": "stdout",
     "output_type": "stream",
     "text": [
      "2 x 0 = 0\n",
      "2 x 1 = 2\n",
      "2 x 2 = 4\n",
      "2 x 3 = 6\n",
      "2 x 4 = 8\n",
      "2 x 5 = 10\n",
      "2 x 6 = 12\n",
      "2 x 7 = 14\n",
      "2 x 8 = 16\n",
      "2 x 9 = 18\n",
      "2 x 1 = 2\n",
      "2 x 2 = 4\n",
      "2 x 3 = 6\n",
      "2 x 4 = 8\n",
      "2 x 5 = 10\n",
      "2 x 6 = 12\n",
      "2 x 7 = 14\n",
      "2 x 8 = 16\n",
      "2 x 9 = 18\n",
      "2 x 1 = 2\n",
      "2 x 2 = 4\n",
      "2 x 3 = 6\n",
      "2 x 4 = 8\n",
      "2 x 5 = 10\n",
      "2 x 6 = 12\n",
      "2 x 7 = 14\n",
      "2 x 8 = 16\n",
      "2 x 9 = 18\n"
     ]
    }
   ],
   "source": [
    "base =2\n",
    "i = 0\n",
    "\n",
    "while i <= 9:\n",
    "    result = base * i\n",
    "    print(f\"{base} x {i} = {result}\")\n",
    "    i += 1\n",
    "    \n",
    "base =2\n",
    "i = 0\n",
    "\n",
    "while i <= 9:\n",
    "    if i==9:\n",
    "        break\n",
    "    i += 1\n",
    "    result = base * i\n",
    "    print(f\"{base} x {i} = {result}\")\n",
    "    \n",
    "base =2\n",
    "i = 0\n",
    "\n",
    "while i <= 9:\n",
    "    i += 1\n",
    "    result = base * i\n",
    "    print(f\"{base} x {i} = {result}\")\n",
    "    if i==9:\n",
    "        break"
   ]
  },
  {
   "cell_type": "code",
   "execution_count": 15,
   "metadata": {},
   "outputs": [
    {
     "name": "stdout",
     "output_type": "stream",
     "text": [
      "2 x 1 = 2\n",
      "2 x 2 = 4\n",
      "2 x 3 = 6\n",
      "2 x 4 = 8\n",
      "2 x 5 = 10\n",
      "2 x 6 = 12\n",
      "2 x 7 = 14\n",
      "2 x 8 = 16\n",
      "2 x 9 = 18\n",
      "2 x 10 = 20\n",
      "2 x 11 = 22\n"
     ]
    }
   ],
   "source": [
    "base =2\n",
    "i = 0\n",
    "while i <= 10:\n",
    "    i += 1\n",
    "    result = base * i\n",
    "    print(f\"{base} x {i} = {result}\")"
   ]
  },
  {
   "cell_type": "markdown",
   "metadata": {},
   "source": [
    "# 2\n"
   ]
  },
  {
   "cell_type": "code",
   "execution_count": 25,
   "metadata": {},
   "outputs": [
    {
     "ename": "TypeError",
     "evalue": "attack() takes 0 positional arguments but 1 was given",
     "output_type": "error",
     "traceback": [
      "\u001b[0;31m---------------------------------------------------------------------------\u001b[0m",
      "\u001b[0;31mTypeError\u001b[0m                                 Traceback (most recent call last)",
      "Cell \u001b[0;32mIn[25], line 10\u001b[0m\n\u001b[1;32m      7\u001b[0m         \u001b[38;5;28mself\u001b[39m\u001b[38;5;241m.\u001b[39mdefense \u001b[38;5;241m=\u001b[39m \u001b[38;5;241m10\u001b[39m\n\u001b[1;32m      9\u001b[0m en1 \u001b[38;5;241m=\u001b[39m enemy()\n\u001b[0;32m---> 10\u001b[0m \u001b[43men1\u001b[49m\u001b[38;5;241;43m.\u001b[39;49m\u001b[43mattack\u001b[49m\u001b[43m(\u001b[49m\u001b[43m)\u001b[49m\n",
      "\u001b[0;31mTypeError\u001b[0m: attack() takes 0 positional arguments but 1 was given"
     ]
    }
   ],
   "source": [
    "class enemy():\n",
    "    def attack():\n",
    "        print(\"attack\")\n",
    "    def __init__(self):\n",
    "        self.hp = 100\n",
    "        # self.attack = 50\n",
    "        self.defense = 10\n",
    "        \n",
    "en1 = enemy()\n",
    "en1.attack()"
   ]
  },
  {
   "cell_type": "markdown",
   "metadata": {},
   "source": [
    "# 3\n"
   ]
  },
  {
   "cell_type": "markdown",
   "metadata": {},
   "source": [
    "import numpy as np\n",
    "A= np.array([[1,2,3],[4,5,6],[7,8,9]])\n",
    "\n",
    "np.sum(A)"
   ]
  },
  {
   "cell_type": "code",
   "execution_count": 31,
   "metadata": {},
   "outputs": [
    {
     "data": {
      "text/plain": [
       "array([ 6, 15, 24])"
      ]
     },
     "execution_count": 31,
     "metadata": {},
     "output_type": "execute_result"
    }
   ],
   "source": [
    "import numpy as np\n",
    "A= np.array([[1,2,3],[4,5,6],[7,8,9]])\n",
    "\n",
    "np.sum(A)\n",
    "np.sum(A,axis = 0)\n",
    "np.sum(A,axis = 1)\n",
    "# np.sum(A,axis =2)\n",
    "\n"
   ]
  },
  {
   "cell_type": "code",
   "execution_count": 33,
   "metadata": {},
   "outputs": [
    {
     "name": "stderr",
     "output_type": "stream",
     "text": [
      "/var/folders/gr/mj8jt14x71nbw99jxv7rzx7m0000gn/T/ipykernel_56640/2437608185.py:2: DeprecationWarning: `np.int` is a deprecated alias for the builtin `int`. To silence this warning, use `int` by itself. Doing this will not modify any behavior and is safe. When replacing `np.int`, you may wish to use e.g. `np.int64` or `np.int32` to specify the precision. If you wish to review your current use, check the release note link for additional information.\n",
      "Deprecated in NumPy 1.20; for more details and guidance: https://numpy.org/devdocs/release/1.20.0-notes.html#deprecations\n",
      "  return np.array(x>0,dtype = np.int)\n"
     ]
    },
    {
     "data": {
      "text/plain": [
       "array([1, 1, 1, 0, 0, 0])"
      ]
     },
     "execution_count": 33,
     "metadata": {},
     "output_type": "execute_result"
    }
   ],
   "source": [
    "def step(x):\n",
    "    return np.array(x>0,dtype = np.int)\n",
    "step(np.array([1,2,3,-1,-2,-3]))"
   ]
  },
  {
   "cell_type": "code",
   "execution_count": 35,
   "metadata": {},
   "outputs": [
    {
     "ename": "ValueError",
     "evalue": "The truth value of an array with more than one element is ambiguous. Use a.any() or a.all()",
     "output_type": "error",
     "traceback": [
      "\u001b[0;31m---------------------------------------------------------------------------\u001b[0m",
      "\u001b[0;31mValueError\u001b[0m                                Traceback (most recent call last)",
      "Cell \u001b[0;32mIn[35], line 6\u001b[0m\n\u001b[1;32m      4\u001b[0m     \u001b[38;5;28;01melse\u001b[39;00m:\n\u001b[1;32m      5\u001b[0m         \u001b[38;5;28;01mreturn\u001b[39;00m \u001b[38;5;241m0\u001b[39m\n\u001b[0;32m----> 6\u001b[0m \u001b[43mstep\u001b[49m\u001b[43m(\u001b[49m\u001b[43mnp\u001b[49m\u001b[38;5;241;43m.\u001b[39;49m\u001b[43marray\u001b[49m\u001b[43m(\u001b[49m\u001b[43m[\u001b[49m\u001b[38;5;241;43m1\u001b[39;49m\u001b[43m,\u001b[49m\u001b[38;5;241;43m2\u001b[39;49m\u001b[43m,\u001b[49m\u001b[38;5;241;43m3\u001b[39;49m\u001b[43m,\u001b[49m\u001b[38;5;241;43m-\u001b[39;49m\u001b[38;5;241;43m1\u001b[39;49m\u001b[43m,\u001b[49m\u001b[38;5;241;43m-\u001b[39;49m\u001b[38;5;241;43m2\u001b[39;49m\u001b[43m,\u001b[49m\u001b[38;5;241;43m-\u001b[39;49m\u001b[38;5;241;43m3\u001b[39;49m\u001b[43m]\u001b[49m\u001b[43m)\u001b[49m\u001b[43m)\u001b[49m\n",
      "Cell \u001b[0;32mIn[35], line 2\u001b[0m, in \u001b[0;36mstep\u001b[0;34m(x)\u001b[0m\n\u001b[1;32m      1\u001b[0m \u001b[38;5;28;01mdef\u001b[39;00m \u001b[38;5;21mstep\u001b[39m(x):\n\u001b[0;32m----> 2\u001b[0m     \u001b[38;5;28;01mif\u001b[39;00m x\u001b[38;5;241m>\u001b[39m\u001b[38;5;241m0\u001b[39m:\n\u001b[1;32m      3\u001b[0m         \u001b[38;5;28;01mreturn\u001b[39;00m \u001b[38;5;241m1\u001b[39m\n\u001b[1;32m      4\u001b[0m     \u001b[38;5;28;01melse\u001b[39;00m:\n",
      "\u001b[0;31mValueError\u001b[0m: The truth value of an array with more than one element is ambiguous. Use a.any() or a.all()"
     ]
    }
   ],
   "source": [
    "def step(x):\n",
    "    if x>0:\n",
    "        return 1\n",
    "    else:\n",
    "        return 0\n",
    "step(np.array([1,2,3,-1,-2,-3]))"
   ]
  },
  {
   "cell_type": "markdown",
   "metadata": {},
   "source": [
    "# 4\n"
   ]
  },
  {
   "cell_type": "code",
   "execution_count": null,
   "metadata": {},
   "outputs": [],
   "source": []
  },
  {
   "cell_type": "code",
   "execution_count": null,
   "metadata": {},
   "outputs": [],
   "source": [
    "inport pandas as pd\n",
    "inport pandas as pd \n",
    "\n",
    "# サンプルデータでデータフレームを作成\n",
    "df = pd.DataFrame({'列名1': [値1, 値2, 値3],\n",
    "                   '列名2': [値4, 値5, 値6],\n",
    "                   '列名3': [値7, 値8, 値9]})\n",
    "\n",
    "\n",
    "\n",
    "\n",
    "df.info()\n",
    "df.describe()\n",
    "\n"
   ]
  },
  {
   "cell_type": "code",
   "execution_count": 38,
   "metadata": {},
   "outputs": [
    {
     "name": "stdout",
     "output_type": "stream",
     "text": [
      "<class 'pandas.core.frame.DataFrame'>\n",
      "RangeIndex: 3 entries, 0 to 2\n",
      "Data columns (total 3 columns):\n",
      " #   Column  Non-Null Count  Dtype \n",
      "---  ------  --------------  ----- \n",
      " 0   name    3 non-null      object\n",
      " 1   age     3 non-null      int64 \n",
      " 2   city    3 non-null      object\n",
      "dtypes: int64(1), object(2)\n",
      "memory usage: 200.0+ bytes\n"
     ]
    },
    {
     "data": {
      "text/html": [
       "<div>\n",
       "<style scoped>\n",
       "    .dataframe tbody tr th:only-of-type {\n",
       "        vertical-align: middle;\n",
       "    }\n",
       "\n",
       "    .dataframe tbody tr th {\n",
       "        vertical-align: top;\n",
       "    }\n",
       "\n",
       "    .dataframe thead th {\n",
       "        text-align: right;\n",
       "    }\n",
       "</style>\n",
       "<table border=\"1\" class=\"dataframe\">\n",
       "  <thead>\n",
       "    <tr style=\"text-align: right;\">\n",
       "      <th></th>\n",
       "      <th>name</th>\n",
       "      <th>age</th>\n",
       "      <th>city</th>\n",
       "    </tr>\n",
       "  </thead>\n",
       "  <tbody>\n",
       "    <tr>\n",
       "      <th>0</th>\n",
       "      <td>John</td>\n",
       "      <td>23</td>\n",
       "      <td>New York</td>\n",
       "    </tr>\n",
       "    <tr>\n",
       "      <th>1</th>\n",
       "      <td>Zack</td>\n",
       "      <td>34</td>\n",
       "      <td>Los Angeles</td>\n",
       "    </tr>\n",
       "    <tr>\n",
       "      <th>2</th>\n",
       "      <td>Emily</td>\n",
       "      <td>45</td>\n",
       "      <td>San Francisco</td>\n",
       "    </tr>\n",
       "  </tbody>\n",
       "</table>\n",
       "</div>"
      ],
      "text/plain": [
       "    name  age           city\n",
       "0   John   23       New York\n",
       "1   Zack   34    Los Angeles\n",
       "2  Emily   45  San Francisco"
      ]
     },
     "execution_count": 38,
     "metadata": {},
     "output_type": "execute_result"
    }
   ],
   "source": [
    "import pandas as pd\n",
    "df = pd.DataFrame({\n",
    "    \"name\":[\"John\",\"Zack\",\"Emily\"],\n",
    "    \"age\":[23,34,45],\n",
    "    \"city\":[\"New York\",\"Los Angeles\",\"San Francisco\"]\n",
    "})\n",
    "df.info()\n",
    "df.describe()\n",
    "df.head()\n",
    "\n"
   ]
  },
  {
   "cell_type": "code",
   "execution_count": 40,
   "metadata": {},
   "outputs": [
    {
     "data": {
      "text/html": [
       "<div>\n",
       "<style scoped>\n",
       "    .dataframe tbody tr th:only-of-type {\n",
       "        vertical-align: middle;\n",
       "    }\n",
       "\n",
       "    .dataframe tbody tr th {\n",
       "        vertical-align: top;\n",
       "    }\n",
       "\n",
       "    .dataframe thead th {\n",
       "        text-align: right;\n",
       "    }\n",
       "</style>\n",
       "<table border=\"1\" class=\"dataframe\">\n",
       "  <thead>\n",
       "    <tr style=\"text-align: right;\">\n",
       "      <th></th>\n",
       "      <th>num</th>\n",
       "      <th>sugarconntent</th>\n",
       "    </tr>\n",
       "  </thead>\n",
       "  <tbody>\n",
       "    <tr>\n",
       "      <th>1</th>\n",
       "      <td>2</td>\n",
       "      <td>20</td>\n",
       "    </tr>\n",
       "    <tr>\n",
       "      <th>3</th>\n",
       "      <td>4</td>\n",
       "      <td>30</td>\n",
       "    </tr>\n",
       "  </tbody>\n",
       "</table>\n",
       "</div>"
      ],
      "text/plain": [
       "   num  sugarconntent\n",
       "1    2             20\n",
       "3    4             30"
      ]
     },
     "execution_count": 40,
     "metadata": {},
     "output_type": "execute_result"
    }
   ],
   "source": [
    "import pandas as pd\n",
    "\n",
    "# DataFrameを作成\n",
    "df = pd.DataFrame({'num': [1, 2, 3, 4],\n",
    "                   'price': [50, 120, 80, 150],\n",
    "                   'sugarconntent': [10, 20, 15, 30]})\n",
    "\n",
    "df.head()\n",
    "\n",
    "# 条件を満たす行のnumとsugarconntentの列を取得\n",
    "result = df[df['price'] > 100][['num', 'sugarconntent']]\n",
    "\n",
    "result"
   ]
  },
  {
   "cell_type": "code",
   "execution_count": 41,
   "metadata": {},
   "outputs": [
    {
     "data": {
      "text/html": [
       "<div>\n",
       "<style scoped>\n",
       "    .dataframe tbody tr th:only-of-type {\n",
       "        vertical-align: middle;\n",
       "    }\n",
       "\n",
       "    .dataframe tbody tr th {\n",
       "        vertical-align: top;\n",
       "    }\n",
       "\n",
       "    .dataframe thead th {\n",
       "        text-align: right;\n",
       "    }\n",
       "</style>\n",
       "<table border=\"1\" class=\"dataframe\">\n",
       "  <thead>\n",
       "    <tr style=\"text-align: right;\">\n",
       "      <th></th>\n",
       "      <th>num</th>\n",
       "      <th>price</th>\n",
       "      <th>sugarconntent</th>\n",
       "    </tr>\n",
       "  </thead>\n",
       "  <tbody>\n",
       "    <tr>\n",
       "      <th>0</th>\n",
       "      <td>1</td>\n",
       "      <td>50</td>\n",
       "      <td>10</td>\n",
       "    </tr>\n",
       "    <tr>\n",
       "      <th>1</th>\n",
       "      <td>2</td>\n",
       "      <td>120</td>\n",
       "      <td>20</td>\n",
       "    </tr>\n",
       "    <tr>\n",
       "      <th>2</th>\n",
       "      <td>3</td>\n",
       "      <td>80</td>\n",
       "      <td>15</td>\n",
       "    </tr>\n",
       "    <tr>\n",
       "      <th>3</th>\n",
       "      <td>4</td>\n",
       "      <td>150</td>\n",
       "      <td>30</td>\n",
       "    </tr>\n",
       "  </tbody>\n",
       "</table>\n",
       "</div>"
      ],
      "text/plain": [
       "   num  price  sugarconntent\n",
       "0    1     50             10\n",
       "1    2    120             20\n",
       "2    3     80             15\n",
       "3    4    150             30"
      ]
     },
     "execution_count": 41,
     "metadata": {},
     "output_type": "execute_result"
    }
   ],
   "source": [
    "df.head()"
   ]
  },
  {
   "cell_type": "code",
   "execution_count": 45,
   "metadata": {},
   "outputs": [
    {
     "data": {
      "text/html": [
       "<div>\n",
       "<style scoped>\n",
       "    .dataframe tbody tr th:only-of-type {\n",
       "        vertical-align: middle;\n",
       "    }\n",
       "\n",
       "    .dataframe tbody tr th {\n",
       "        vertical-align: top;\n",
       "    }\n",
       "\n",
       "    .dataframe thead th {\n",
       "        text-align: right;\n",
       "    }\n",
       "</style>\n",
       "<table border=\"1\" class=\"dataframe\">\n",
       "  <thead>\n",
       "    <tr style=\"text-align: right;\">\n",
       "      <th></th>\n",
       "      <th>num</th>\n",
       "      <th>sugarconntent</th>\n",
       "    </tr>\n",
       "  </thead>\n",
       "  <tbody>\n",
       "    <tr>\n",
       "      <th>1</th>\n",
       "      <td>2</td>\n",
       "      <td>20</td>\n",
       "    </tr>\n",
       "    <tr>\n",
       "      <th>3</th>\n",
       "      <td>4</td>\n",
       "      <td>30</td>\n",
       "    </tr>\n",
       "  </tbody>\n",
       "</table>\n",
       "</div>"
      ],
      "text/plain": [
       "   num  sugarconntent\n",
       "1    2             20\n",
       "3    4             30"
      ]
     },
     "execution_count": 45,
     "metadata": {},
     "output_type": "execute_result"
    }
   ],
   "source": [
    "df[df['price'] > 100][['num', 'sugarconntent']]"
   ]
  },
  {
   "cell_type": "code",
   "execution_count": null,
   "metadata": {},
   "outputs": [],
   "source": [
    "df[df['price'] > 100]['num', 'sugarconntent']"
   ]
  },
  {
   "cell_type": "code",
   "execution_count": 48,
   "metadata": {},
   "outputs": [
    {
     "ename": "AttributeError",
     "evalue": "'DataFrame' object has no attribute 'statistic'",
     "output_type": "error",
     "traceback": [
      "\u001b[0;31m---------------------------------------------------------------------------\u001b[0m",
      "\u001b[0;31mAttributeError\u001b[0m                            Traceback (most recent call last)",
      "\u001b[0;32m/var/folders/gr/mj8jt14x71nbw99jxv7rzx7m0000gn/T/ipykernel_56640/2403775597.py\u001b[0m in \u001b[0;36m?\u001b[0;34m()\u001b[0m\n\u001b[0;32m----> 1\u001b[0;31m \u001b[0mdf\u001b[0m\u001b[0;34m.\u001b[0m\u001b[0mstatistic\u001b[0m\u001b[0;34m(\u001b[0m\u001b[0;34m)\u001b[0m\u001b[0;34m\u001b[0m\u001b[0;34m\u001b[0m\u001b[0m\n\u001b[0m",
      "\u001b[0;32m~/opt/anaconda3/lib/python3.9/site-packages/pandas/core/generic.py\u001b[0m in \u001b[0;36m?\u001b[0;34m(self, name)\u001b[0m\n\u001b[1;32m   5571\u001b[0m             \u001b[0;32mand\u001b[0m \u001b[0mname\u001b[0m \u001b[0;32mnot\u001b[0m \u001b[0;32min\u001b[0m \u001b[0mself\u001b[0m\u001b[0;34m.\u001b[0m\u001b[0m_accessors\u001b[0m\u001b[0;34m\u001b[0m\u001b[0;34m\u001b[0m\u001b[0m\n\u001b[1;32m   5572\u001b[0m             \u001b[0;32mand\u001b[0m \u001b[0mself\u001b[0m\u001b[0;34m.\u001b[0m\u001b[0m_info_axis\u001b[0m\u001b[0;34m.\u001b[0m\u001b[0m_can_hold_identifiers_and_holds_name\u001b[0m\u001b[0;34m(\u001b[0m\u001b[0mname\u001b[0m\u001b[0;34m)\u001b[0m\u001b[0;34m\u001b[0m\u001b[0;34m\u001b[0m\u001b[0m\n\u001b[1;32m   5573\u001b[0m         ):\n\u001b[1;32m   5574\u001b[0m             \u001b[0;32mreturn\u001b[0m \u001b[0mself\u001b[0m\u001b[0;34m[\u001b[0m\u001b[0mname\u001b[0m\u001b[0;34m]\u001b[0m\u001b[0;34m\u001b[0m\u001b[0;34m\u001b[0m\u001b[0m\n\u001b[0;32m-> 5575\u001b[0;31m         \u001b[0;32mreturn\u001b[0m \u001b[0mobject\u001b[0m\u001b[0;34m.\u001b[0m\u001b[0m__getattribute__\u001b[0m\u001b[0;34m(\u001b[0m\u001b[0mself\u001b[0m\u001b[0;34m,\u001b[0m \u001b[0mname\u001b[0m\u001b[0;34m)\u001b[0m\u001b[0;34m\u001b[0m\u001b[0;34m\u001b[0m\u001b[0m\n\u001b[0m",
      "\u001b[0;31mAttributeError\u001b[0m: 'DataFrame' object has no attribute 'statistic'"
     ]
    }
   ],
   "source": [
    "df.statistic()"
   ]
  },
  {
   "cell_type": "code",
   "execution_count": null,
   "metadata": {},
   "outputs": [],
   "source": []
  },
  {
   "cell_type": "markdown",
   "metadata": {},
   "source": [
    "# 5\n"
   ]
  },
  {
   "cell_type": "markdown",
   "metadata": {},
   "source": []
  },
  {
   "cell_type": "code",
   "execution_count": 54,
   "metadata": {},
   "outputs": [
    {
     "ename": "IndexError",
     "evalue": "too many indices for array: array is 1-dimensional, but 2 were indexed",
     "output_type": "error",
     "traceback": [
      "\u001b[0;31m---------------------------------------------------------------------------\u001b[0m",
      "\u001b[0;31mIndexError\u001b[0m                                Traceback (most recent call last)",
      "Cell \u001b[0;32mIn[54], line 7\u001b[0m\n\u001b[1;32m      4\u001b[0m fig, axs \u001b[38;5;241m=\u001b[39m plt\u001b[38;5;241m.\u001b[39msubplots(\u001b[38;5;241m1\u001b[39m, \u001b[38;5;241m4\u001b[39m, figsize\u001b[38;5;241m=\u001b[39m(\u001b[38;5;241m12\u001b[39m, \u001b[38;5;241m3\u001b[39m))\n\u001b[1;32m      6\u001b[0m \u001b[38;5;66;03m# 各サブプロットにタイトルを設定\u001b[39;00m\n\u001b[0;32m----> 7\u001b[0m \u001b[43maxs\u001b[49m\u001b[43m[\u001b[49m\u001b[38;5;241;43m0\u001b[39;49m\u001b[43m,\u001b[49m\u001b[43m \u001b[49m\u001b[38;5;241;43m0\u001b[39;49m\u001b[43m]\u001b[49m\u001b[38;5;241m.\u001b[39mset_title(\u001b[38;5;124m'\u001b[39m\u001b[38;5;124mSubplot 1\u001b[39m\u001b[38;5;124m'\u001b[39m)\n\u001b[1;32m      8\u001b[0m axs[\u001b[38;5;241m0\u001b[39m, \u001b[38;5;241m1\u001b[39m]\u001b[38;5;241m.\u001b[39mset_title(\u001b[38;5;124m'\u001b[39m\u001b[38;5;124mSubplot 2\u001b[39m\u001b[38;5;124m'\u001b[39m)\n\u001b[1;32m      9\u001b[0m axs[\u001b[38;5;241m1\u001b[39m, \u001b[38;5;241m0\u001b[39m]\u001b[38;5;241m.\u001b[39mset_title(\u001b[38;5;124m'\u001b[39m\u001b[38;5;124mSubplot 3\u001b[39m\u001b[38;5;124m'\u001b[39m)\n",
      "\u001b[0;31mIndexError\u001b[0m: too many indices for array: array is 1-dimensional, but 2 were indexed"
     ]
    },
    {
     "data": {
      "image/png": "[encoded data removed]",
      "text/plain": [
       "<Figure size 1200x300 with 4 Axes>"
      ]
     },
     "metadata": {},
     "output_type": "display_data"
    }
   ],
   "source": [
    "import matplotlib.pyplot as plt\n",
    "\n",
    "# 2x2のグリッドでサブプロットを作成\n",
    "fig, axs = plt.subplots(1, 4, figsize=(12, 3))\n",
    "\n",
    "# 各サブプロットにタイトルを設定\n",
    "axs[0, 0].set_title('Subplot 1')\n",
    "axs[0, 1].set_title('Subplot 2')\n",
    "axs[1, 0].set_title('Subplot 3')\n",
    "axs[1, 1].set_title('Subplot 4')\n",
    "\n",
    "# 図を表示\n",
    "plt.show()"
   ]
  },
  {
   "cell_type": "code",
   "execution_count": null,
   "metadata": {},
   "outputs": [],
   "source": [
    "import matplotlib.pyplot as plt\n",
    "import seaborn as sns\n",
    "import pandas as pd\n",
    "\n",
    "# データの準備\n",
    "df = pd.DataFrame({'x': [1, 2, 3, 4, 5], 'y': [2, 3, 5, 7, 11]})\n",
    "\n",
    "# FigureとAxesオブジェクトの作成\n",
    "fig, ax = plt.subplots(1, 2)  # 1行2列のサブプロット\n",
    "\n",
    "# sns.regplotを使用して、最初のサブプロットに散布図と回帰直線を描画\n",
    "sns.regplot(x='x', y='y', data=df, color='red', ax=ax[0])\n",
    "\n",
    "plt.show()"
   ]
  },
  {
   "cell_type": "code",
   "execution_count": 55,
   "metadata": {},
   "outputs": [
    {
     "data": {
      "image/png": "[encoded data removed]",
      "text/plain": [
       "<Figure size 640x480 with 1 Axes>"
      ]
     },
     "metadata": {},
     "output_type": "display_data"
    }
   ],
   "source": [
    "import matplotlib.pyplot as plt\n",
    "\n",
    "fig, ax = plt.subplots()  # 図と軸を作成\n",
    "ax.plot([1, 2, 3], [1, 4, 9])  # データをプロット\n",
    "ax.set_xlabel('X Axis Label')  # X軸にラベルを設定\n",
    "plt.show()"
   ]
  },
  {
   "cell_type": "code",
   "execution_count": 56,
   "metadata": {},
   "outputs": [
    {
     "name": "stderr",
     "output_type": "stream",
     "text": [
      "/Users/kazumamiura/opt/anaconda3/lib/python3.9/site-packages/scipy/__init__.py:132: UserWarning: A NumPy version >=1.21.6 and <1.28.0 is required for this version of SciPy (detected version 1.21.5)\n",
      "  warnings.warn(f\"A NumPy version >={np_minversion} and <{np_maxversion}\"\n"
     ]
    },
    {
     "data": {
      "image/png": "[encoded data removed]",
      "text/plain": [
       "<Figure size 640x480 with 2 Axes>"
      ]
     },
     "metadata": {},
     "output_type": "display_data"
    }
   ],
   "source": [
    "import matplotlib.pyplot as plt\n",
    "import seaborn as sns\n",
    "import pandas as pd\n",
    "\n",
    "# データの準備\n",
    "df = pd.DataFrame({'x': [1, 2, 3, 4, 5], 'y': [2, 3, 5, 7, 11]})\n",
    "\n",
    "# FigureとAxesオブジェクトの作成\n",
    "fig, ax = plt.subplots(1, 2)  # 1行2列のサブプロット\n",
    "\n",
    "# sns.regplotを使用して、最初のサブプロットに散布図と回帰直線を描画\n",
    "sns.regplot(x='x', y='y', data=df, color='red', ax=ax[0])\n",
    "\n",
    "plt.show()"
   ]
  },
  {
   "cell_type": "code",
   "execution_count": null,
   "metadata": {},
   "outputs": [],
   "source": []
  },
  {
   "cell_type": "code",
   "execution_count": 58,
   "metadata": {},
   "outputs": [
    {
     "data": {
      "image/png": "[encoded data removed]",
      "text/plain": [
       "<Figure size 640x480 with 1 Axes>"
      ]
     },
     "metadata": {},
     "output_type": "display_data"
    }
   ],
   "source": [
    "import seaborn as sns\n",
    "import matplotlib.pyplot as plt\n",
    "\n",
    "# サンプルデータの読み込み\n",
    "tips = sns.load_dataset(\"tips\")\n",
    "tips.head()\n",
    "# 箱ひげ図の描画\n",
    "sns.boxplot(x=\"day\", y=\"total_bill\", data=tips)\n",
    "\n",
    "# 描画の表示\n",
    "plt.show()"
   ]
  },
  {
   "cell_type": "code",
   "execution_count": 59,
   "metadata": {},
   "outputs": [
    {
     "data": {
      "text/html": [
       "<div>\n",
       "<style scoped>\n",
       "    .dataframe tbody tr th:only-of-type {\n",
       "        vertical-align: middle;\n",
       "    }\n",
       "\n",
       "    .dataframe tbody tr th {\n",
       "        vertical-align: top;\n",
       "    }\n",
       "\n",
       "    .dataframe thead th {\n",
       "        text-align: right;\n",
       "    }\n",
       "</style>\n",
       "<table border=\"1\" class=\"dataframe\">\n",
       "  <thead>\n",
       "    <tr style=\"text-align: right;\">\n",
       "      <th></th>\n",
       "      <th>total_bill</th>\n",
       "      <th>tip</th>\n",
       "      <th>sex</th>\n",
       "      <th>smoker</th>\n",
       "      <th>day</th>\n",
       "      <th>time</th>\n",
       "      <th>size</th>\n",
       "    </tr>\n",
       "  </thead>\n",
       "  <tbody>\n",
       "    <tr>\n",
       "      <th>0</th>\n",
       "      <td>16.99</td>\n",
       "      <td>1.01</td>\n",
       "      <td>Female</td>\n",
       "      <td>No</td>\n",
       "      <td>Sun</td>\n",
       "      <td>Dinner</td>\n",
       "      <td>2</td>\n",
       "    </tr>\n",
       "    <tr>\n",
       "      <th>1</th>\n",
       "      <td>10.34</td>\n",
       "      <td>1.66</td>\n",
       "      <td>Male</td>\n",
       "      <td>No</td>\n",
       "      <td>Sun</td>\n",
       "      <td>Dinner</td>\n",
       "      <td>3</td>\n",
       "    </tr>\n",
       "    <tr>\n",
       "      <th>2</th>\n",
       "      <td>21.01</td>\n",
       "      <td>3.50</td>\n",
       "      <td>Male</td>\n",
       "      <td>No</td>\n",
       "      <td>Sun</td>\n",
       "      <td>Dinner</td>\n",
       "      <td>3</td>\n",
       "    </tr>\n",
       "    <tr>\n",
       "      <th>3</th>\n",
       "      <td>23.68</td>\n",
       "      <td>3.31</td>\n",
       "      <td>Male</td>\n",
       "      <td>No</td>\n",
       "      <td>Sun</td>\n",
       "      <td>Dinner</td>\n",
       "      <td>2</td>\n",
       "    </tr>\n",
       "    <tr>\n",
       "      <th>4</th>\n",
       "      <td>24.59</td>\n",
       "      <td>3.61</td>\n",
       "      <td>Female</td>\n",
       "      <td>No</td>\n",
       "      <td>Sun</td>\n",
       "      <td>Dinner</td>\n",
       "      <td>4</td>\n",
       "    </tr>\n",
       "  </tbody>\n",
       "</table>\n",
       "</div>"
      ],
      "text/plain": [
       "   total_bill   tip     sex smoker  day    time  size\n",
       "0       16.99  1.01  Female     No  Sun  Dinner     2\n",
       "1       10.34  1.66    Male     No  Sun  Dinner     3\n",
       "2       21.01  3.50    Male     No  Sun  Dinner     3\n",
       "3       23.68  3.31    Male     No  Sun  Dinner     2\n",
       "4       24.59  3.61  Female     No  Sun  Dinner     4"
      ]
     },
     "execution_count": 59,
     "metadata": {},
     "output_type": "execute_result"
    }
   ],
   "source": [
    "tips.head()"
   ]
  },
  {
   "cell_type": "code",
   "execution_count": 62,
   "metadata": {},
   "outputs": [
    {
     "name": "stdout",
     "output_type": "stream",
     "text": [
      "     total_bill    tip     sex smoker   day    time  size\n",
      "59        48.27   6.73    Male     No   Sat  Dinner     4\n",
      "102       44.30   2.50  Female    Yes   Sat  Dinner     3\n",
      "142       41.19   5.00    Male     No  Thur   Lunch     5\n",
      "156       48.17   5.00    Male     No   Sun  Dinner     6\n",
      "170       50.81  10.00    Male    Yes   Sat  Dinner     3\n",
      "182       45.35   3.50    Male    Yes   Sun  Dinner     3\n",
      "184       40.55   3.00    Male    Yes   Sun  Dinner     2\n",
      "197       43.11   5.00  Female    Yes  Thur   Lunch     4\n",
      "212       48.33   9.00    Male     No   Sat  Dinner     4\n"
     ]
    }
   ],
   "source": [
    "import numpy as np\n",
    "\n",
    "# 第1四分位数と第3四分位数を計算\n",
    "Q1 = np.percentile(tips['total_bill'], 25)\n",
    "Q3 = np.percentile(tips['total_bill'], 75)\n",
    "\n",
    "# IQRを計算\n",
    "IQR = Q3 - Q1\n",
    "\n",
    "# 外れ値の閾値を計算\n",
    "lower_bound = Q1 - 1.5 * IQR\n",
    "upper_bound = Q3 + 1.5 * IQR\n",
    "\n",
    "# 外れ値を特定\n",
    "outliers = tips[(tips['total_bill'] < lower_bound) | (tips['total_bill'] > upper_bound)]\n",
    "print(outliers)"
   ]
  },
  {
   "cell_type": "markdown",
   "metadata": {},
   "source": [
    "mport matplotlib.pyplot as plt\n",
    "\n",
    "fig, ax = plt.subplots() # 図と軸を作成 ax.plot([1, 2, 3], [1, 4, 9]) # データをプロット ax.set_xlabel('X Axis Label') # X軸にラベルを設定 plt.show()のfigについて教えてください"
   ]
  },
  {
   "cell_type": "markdown",
   "metadata": {},
   "source": [
    "fig変数には、Matplotlibのplt.subplots()関数から返されるFigureオブジェクトが代入されています。このFigureオブジェクトは、グラフ全体のコンテナとして機能し、1つ以上の軸（Axes）、グラフィック、テキスト、ラベルなどを含むことができます。plt.subplots()関数は、便利な方法でFigureオブジェクトとAxesオブジェクト（または複数のAxesオブジェクトの配列）を同時に生成します。\n",
    "\n",
    "このコードのコンテキストでは、figはグラフ全体を表し、axはその中の特定の軸（この場合は1つだけ）を表します。ax.plot()でデータをプロットし、ax.set_xlabel()でX軸のラベルを設定しています。最後にplt.show()を呼び出すことで、作成したグラフが表示されます。\n",
    "\n",
    "簡単に言うと、figは作成されたグラフの「キャンバス」のようなもので、グラフの全体的な外観やサイズを管理するために使用されます。"
   ]
  },
  {
   "cell_type": "markdown",
   "metadata": {},
   "source": [
    "seabornについて質問です。sns.regplot(x,y,color='red',ax= ax[0,0])のaxはどんな引数ですか"
   ]
  },
  {
   "cell_type": "markdown",
   "metadata": {},
   "source": [
    "ax引数は、sns.regplot関数において、プロットを描画するためのmatplotlibのAxesオブジェクトを指定するために使用されます。この引数を使用することで、特定のmatplotlibのFigure内の特定のAxesに回帰線のプロットを描画することができます。例えば、plt.subplots()を使用して複数のプロットを含むFigureを作成した場合、ax引数を使用して、どのサブプロット（Axes）にsns.regplotによる描画を行うかを指定できます。\n",
    "\n",
    "ax= ax[0,0]の部分は、plt.subplots()によって作成されたAxesオブジェクトの配列から、最初の行の最初の列に位置するAxesオブジェクトを指定しています。これにより、sns.regplotは指定されたAxes上に回帰線と散布図を描画します。"
   ]
  },
  {
   "cell_type": "markdown",
   "metadata": {},
   "source": [
    "sns.regplot(x,y,color='red',ax= ax[0,0について詳しく教えてください\n"
   ]
  },
  {
   "cell_type": "markdown",
   "metadata": {},
   "source": [
    "sns.regplotはSeabornライブラリを使用して、データの散布図とその回帰直線を描画するための関数です。この関数は、データの関係を視覚的に理解するのに役立ちます。ここでのxとyは、それぞれx軸とy軸にプロットするデータを指します。color='red'は、プロットの色を赤に指定しています。ax=ax[0,0]は、プロットを描画するmatplotlibのAxesオブジェクトを指定しています。\n",
    "\n",
    "以下は、sns.regplotの使用例のステップバイステップの説明です：\n",
    "\n",
    "データの準備: xとyにプロットしたいデータを準備します。これらはリスト、NumPy配列、pandasのSeriesなど、さまざまな形式である可能性があります。\n",
    "\n",
    "プロットの設定: sns.regplot関数を使用して、xとyのデータを指定し、プロットの色をcolor引数で設定します。\n",
    "\n",
    "Axesオブジェクトの指定: matplotlibのplt.subplots()などを使用して複数のプロットを含む図（Figure）を作成した場合、ax引数を使用して、どのサブプロット（Axes）に回帰線と散布図を描画するかを指定できます。ax[0,0]は、Figure内の最初の行と最初の列に位置するサブプロットを指します。\n",
    "\n",
    "プロットの描画: 上記の設定に基づいて、sns.regplotは散布図と回帰直線を指定されたAxesオブジェクト上に描画します。\n",
    "\n",
    "以下は、これらのステップを実装するPythonコードの例です：\n",
    "import matplotlib.pyplot as plt\n",
    "import seaborn as sns\n",
    "import pandas as pd\n",
    "```\n",
    "# データの準備\n",
    "df = pd.DataFrame({'x': [1, 2, 3, 4, 5], 'y': [2, 3, 5, 7, 11]})\n",
    "\n",
    "# FigureとAxesオブジェクトの作成\n",
    "fig, ax = plt.subplots(1, 2)  # 1行2列のサブプロット\n",
    "\n",
    "# sns.regplotを使用して、最初のサブプロットに散布図と回帰直線を描画\n",
    "sns.regplot(x='x', y='y', data=df, color='red', ax=ax[0])\n",
    "\n",
    "plt.show()\n",
    "```\n",
    "このコードは、dfデータフレームのx列とy列のデータを使用して、1行2列のサブプロットの最初の位置に散布図と回帰直線を赤色で描画します。"
   ]
  },
  {
   "cell_type": "markdown",
   "metadata": {},
   "source": [
    "Seabornのsns.regplot関数は、データの散布図とその回帰直線を描画するために設計されています。ローレンツ曲線を描画するための直接的な機能は提供していません。ローレンツ曲線は、所得分布の不平等を視覚化するために使用されるグラフであり、sns.regplotの用途とは異なります。\n",
    "\n",
    "ローレンツ曲線を描画するには、データを適切に処理してから、matplotlibやSeabornの基本的なプロット機能を使用してグラフを描画する必要があります。以下は、ローレンツ曲線を描画する基本的な手順です：\n",
    "\n",
    "データの準備: 所得データなど、ローレンツ曲線を描画したいデータを準備します。\n",
    "データのソート: データを昇順にソートします。\n",
    "累積比率の計算: 所得の累積比率と人口の累積比率を計算します。\n",
    "ローレンツ曲線の描画: 人口の累積比率をx軸に、所得の累積比率をy軸にして、ローレンツ曲線を描画します。\n",
    "以下は、ローレンツ曲線を描画するための簡単なPythonコードの例です：\n",
    "\n",
    "```\n",
    "import numpy as np\n",
    "import matplotlib.pyplot as plt\n",
    "\n",
    "# データの準備（例としてランダムな所得データ）\n",
    "income = np.random.uniform(0, 10000, 100)\n",
    "income.sort()\n",
    "\n",
    "# 累積比率の計算\n",
    "cumulative_income = np.cumsum(income)\n",
    "cumulative_share_of_income = cumulative_income / cumulative_income[-1]\n",
    "cumulative_share_of_population = np.arange(1, len(income) + 1) / len(income)\n",
    "\n",
    "# ローレンツ曲線の描画\n",
    "plt.figure(figsize=(8, 8))\n",
    "plt.plot(cumulative_share_of_population, cumulative_share_of_income, label='ローレンツ曲線')\n",
    "plt.plot([0, 1], [0, 1], '--', color='gray', label='完全平等線')\n",
    "plt.xlabel('人口の累積比率')\n",
    "plt.ylabel('所得の累積比率')\n",
    "plt.title('ローレンツ曲線')\n",
    "plt.legend()\n",
    "plt.show()\n",
    "```\n",
    "このコードは、ランダムに生成された所得データを使用してローレンツ曲線を描画します。実際のデータを使用する場合は、income配列を実データに置き換えてください。\n",
    "\n"
   ]
  },
  {
   "cell_type": "markdown",
   "metadata": {},
   "source": [
    "外れ値を確認できますか"
   ]
  },
  {
   "cell_type": "markdown",
   "metadata": {},
   "source": [
    "外れ値を確認する一般的な方法は、箱ひげ図（boxplot）を使用することです。箱ひげ図は、データの分布、中央値、四分位数、および外れ値を視覚的に表示します。外れ値は、通常、箱の外にプロットされた点として表示されます。\n",
    "\n",
    "以下は、PythonのSeabornライブラリを使用して箱ひげ図を描画し、外れ値を確認する方法の例です：\n",
    "```\n",
    "import seaborn as sns\n",
    "import matplotlib.pyplot as plt\n",
    "\n",
    "# サンプルデータの読み込み\n",
    "tips = sns.load_dataset(\"tips\")\n",
    "\n",
    "# 箱ひげ図の描画\n",
    "sns.boxplot(x=\"day\", y=\"total_bill\", data=tips)\n",
    "\n",
    "# 描画の表示\n",
    "plt.show()\n",
    "```\n",
    "\n",
    "このコードは、tipsデータセットのtotal_bill列に対して、dayごとの箱ひげ図を描画します。箱ひげ図において、箱（四分位範囲）の外にプロットされた点が外れ値です。これらの点は、データセット内で他の観測値から大きく離れた値を表しています。\n",
    "\n",
    "外れ値を数値的に特定するには、四分位数範囲（IQR）を使用して計算する方法があります。IQRは、第3四分位数（Q3）と第1四分位数（Q1）の差であり、データの中央50%を表します。外れ値は、通常、Q1 - 1.5 * IQRより小さい値、またはQ3 + 1.5 * IQRより大きい値として定義されます。\n",
    "\n",
    "以下は、外れ値を数値的に特定する方法の例です：\n",
    "```import numpy as np\n",
    "\n",
    "# 第1四分位数と第3四分位数を計算\n",
    "Q1 = np.percentile(tips['total_bill'], 25)\n",
    "Q3 = np.percentile(tips['total_bill'], 75)\n",
    "\n",
    "# IQRを計算\n",
    "IQR = Q3 - Q1\n",
    "\n",
    "# 外れ値の閾値を計算\n",
    "lower_bound = Q1 - 1.5 * IQR\n",
    "upper_bound = Q3 + 1.5 * IQR\n",
    "\n",
    "# 外れ値を特定\n",
    "outliers = tips[(tips['total_bill'] < lower_bound) | (tips['total_bill'] > upper_bound)]\n",
    "print(outliers)\n",
    "```\n",
    "\n",
    "このコードは、total_bill列の外れ値を特定し、それらの行を表示します。外れ値の特定は、データのクリーニングや前処理の際に重要なステップです。"
   ]
  },
  {
   "cell_type": "markdown",
   "metadata": {},
   "source": [
    "numpyのaxisの覚え方がわかりません。どのように覚えると良いか言語の仕様とともに教えてください"
   ]
  },
  {
   "cell_type": "markdown",
   "metadata": {},
   "source": [
    "NumPyのaxisパラメータは、多次元配列の操作において、どの次元に沿って計算を行うかを指定するために使用されます。axisの覚え方にはいくつかの方法がありますが、以下の説明と覚え方が役立つかもしれません。\n",
    "\n",
    "言語の仕様\n",
    "axis=0は、配列の「行」に沿った操作を意味します。つまり、列を固定して行に沿って計算を行います。\n",
    "axis=1は、配列の「列」に沿った操作を意味します。つまり、行を固定して列に沿って計算を行います。\n",
    "覚え方\n",
    "「0」は縦、「1」は横：数字の「0」が縦の線を思わせ、「1」が横の線を思わせることから、axis=0は縦方向（行）、axis=1は横方向（列）の操作を覚えることができます。\n",
    "「0」から始まる：多くのプログラミング言語では、インデックスは「0」から始まります。2次元配列（行と列）を考えるとき、最初の次元（axis=0）は行、次の次元（axis=1）は列を指します。\n",
    "「行に対する操作、次に列」：多次元配列を操作する際、通常は行に対する操作が先（axis=0）、次に列に対する操作（axis=1）が来ます。この順序を覚えることで、axisの値とその意味を関連付けることができます。\n",
    "例\n",
    "```\n",
    "import numpy as np\n",
    "\n",
    "# 2次元配列（行列）を作成\n",
    "arr = np.array([[1, 2, 3], [4, 5, 6]])\n",
    "\n",
    "# 各列の合計を計算（列に沿って計算）\n",
    "print(np.sum(arr, axis=0))  # 出力: [5 7 9]\n",
    "\n",
    "# 各行の合計を計算（行に沿って計算）\n",
    "print(np.sum(arr, axis=1))  # 出力: [ 6 15]\n",
    "```\n",
    "この例では、np.sum関数を使用して、axisパラメータを変えることで、行に沿った計算と列に沿った計算の違いを示しています。\n",
    "\n",
    "axisの概念は、最初は混乱を招くかもしれませんが、実際にコードを書いてみることで、その動作を理解しやすくなります。"
   ]
  },
  {
   "cell_type": "markdown",
   "metadata": {},
   "source": [
    "多次元配列はどれが列でどれが行なのですか"
   ]
  },
  {
   "cell_type": "markdown",
   "metadata": {},
   "source": [
    "NumPyの多次元配列における「行」と「列」の概念は、2次元配列（行列）を考えるときに直感的に理解しやすいです。NumPy配列では、最初の次元（axis=0）が「行」を、次の次元（axis=1）が「列」を表します。これは、標準的な行列の表記法に従います。\n",
    "\n",
    "例\n",
    "2次元配列（行列）を考えてみましょう：\n",
    "\n",
    "この配列arrは、3行2列の行列です。ここで、\n",
    "\n",
    "arr.shapeを実行すると(3, 2)が返されます。これは、配列が3行2列であることを意味します。\n",
    "axis=0は、この配列の「行」に沿った操作を指します。つまり、各列の要素に対して縦方向（上から下へ）の操作を行います。\n",
    "axis=1は、この配列の「列」に沿った操作を指します。つまり、各行の要素に対して横方向（左から右へ）の操作を行います。\n",
    "行と列の操作の例\n",
    "```\n",
    "# 各列の合計を計算（列に沿って計算）\n",
    "print(np.sum(arr, axis=0))  # 出力: [ 9 12]\n",
    "\n",
    "# 各行の合計を計算（行に沿って計算）\n",
    "print(np.sum(arr, axis=1))  # 出力: [ 3  7 11]\n",
    "```\n",
    "この例では、np.sum関数を使用して、axis=0（各列の合計）とaxis=1（各行の合計）の操作を行っています。axis=0の操作では、3行の要素がそれぞれ加算され、2つの結果が得られます（各列の合計）。axis=1の操作では、各行の2つの要素が加算され、3つの結果が得られます（各行の合計）。\n",
    "\n",
    "このように、NumPyの多次元配列では、axis=0が行を、axis=1が列を指し、これらの概念は行列の標準的な表記法に基づいています。"
   ]
  },
  {
   "cell_type": "markdown",
   "metadata": {},
   "source": []
  }
 ],
 "metadata": {
  "kernelspec": {
   "display_name": "base",
   "language": "python",
   "name": "python3"
  },
  "language_info": {
   "codemirror_mode": {
    "name": "ipython",
    "version": 3
   },
   "file_extension": ".py",
   "mimetype": "text/x-python",
   "name": "python",
   "nbconvert_exporter": "python",
   "pygments_lexer": "ipython3",
   "version": "3.9.15"
  }
 },
 "nbformat": 4,
 "nbformat_minor": 2
}
